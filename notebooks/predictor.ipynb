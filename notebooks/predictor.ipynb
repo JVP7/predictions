{
 "cells": [
  {
   "cell_type": "code",
   "execution_count": 47,
   "id": "2e3beee7",
   "metadata": {},
   "outputs": [
    {
     "name": "stdout",
     "output_type": "stream",
     "text": [
      "3.13.5 (v3.13.5:6cb20a219a8, Jun 11 2025, 12:23:45) [Clang 16.0.0 (clang-1600.0.26.6)]\n",
      "pandas 2.3.0 sklearn 1.7.0 matplotlib 3.10.3\n"
     ]
    }
   ],
   "source": [
    "import sys, numpy as np, pandas as pd, sklearn, matplotlib\n",
    "np.random.seed(42)\n",
    "\n",
    "pd.set_option(\"display.width\", 120)\n",
    "pd.set_option(\"display.max_columns\", 50)\n",
    "\n",
    "print(sys.version)\n",
    "print(\"pandas\", pd.__version__, \"sklearn\", sklearn.__version__, \"matplotlib\", matplotlib.__version__)"
   ]
  },
  {
   "cell_type": "code",
   "execution_count": 48,
   "id": "6b6c33a0",
   "metadata": {},
   "outputs": [],
   "source": [
    "import pandas as pd\n",
    "import matplotlib.pyplot as plt\n",
    "from pathlib import Path\n",
    "from sklearn.model_selection import train_test_split\n",
    "from sklearn.linear_model import LinearRegression\n",
    "from sklearn.metrics import r2_score, mean_squared_error\n",
    "from sklearn.ensemble import RandomForestRegressor"
   ]
  },
  {
   "cell_type": "code",
   "execution_count": 49,
   "id": "5f9ab98c",
   "metadata": {},
   "outputs": [],
   "source": [
    "file_path = Path(\"..\") / \"data\" / \"bestsellers.csv\"\n",
    "\n",
    "df = pd.read_csv(file_path)\n",
    "dfc = df.copy()"
   ]
  },
  {
   "cell_type": "code",
   "execution_count": 50,
   "id": "989b047c",
   "metadata": {},
   "outputs": [
    {
     "name": "stdout",
     "output_type": "stream",
     "text": [
      "                                                Name                    Author  User Rating  Reviews  Price  Year  \\\n",
      "0                      10-Day Green Smoothie Cleanse                  JJ Smith          4.7    17350      8  2016   \n",
      "1                                  11/22/63: A Novel              Stephen King          4.6     2052     22  2011   \n",
      "2            12 Rules for Life: An Antidote to Chaos        Jordan B. Peterson          4.7    18979     15  2018   \n",
      "3                             1984 (Signet Classics)             George Orwell          4.7    21424      6  2017   \n",
      "4  5,000 Awesome Facts (About Everything!) (Natio...  National Geographic Kids          4.8     7665     12  2019   \n",
      "\n",
      "         Genre  \n",
      "0  Non Fiction  \n",
      "1      Fiction  \n",
      "2  Non Fiction  \n",
      "3      Fiction  \n",
      "4  Non Fiction  \n",
      "(550, 7)\n",
      "Index(['Name', 'Author', 'User Rating', 'Reviews', 'Price', 'Year', 'Genre'], dtype='object')\n",
      "       User Rating       Reviews       Price         Year\n",
      "count   550.000000    550.000000  550.000000   550.000000\n",
      "mean      4.618364  11953.281818   13.100000  2014.000000\n",
      "std       0.226980  11731.132017   10.842262     3.165156\n",
      "min       3.300000     37.000000    0.000000  2009.000000\n",
      "25%       4.500000   4058.000000    7.000000  2011.000000\n",
      "50%       4.700000   8580.000000   11.000000  2014.000000\n",
      "75%       4.800000  17253.250000   16.000000  2017.000000\n",
      "max       4.900000  87841.000000  105.000000  2019.000000\n"
     ]
    }
   ],
   "source": [
    "# Exploring the data\n",
    "\n",
    "# first 5 rows of the spreadsheet\n",
    "print(dfc.head())\n",
    "\n",
    "# shape of the spreadsheet\n",
    "print(dfc.shape)\n",
    "\n",
    "# column names\n",
    "print(dfc.columns)\n",
    "\n",
    "# summary statistics for each column\n",
    "print(dfc.describe())"
   ]
  },
  {
   "cell_type": "code",
   "execution_count": 51,
   "id": "78966be1",
   "metadata": {},
   "outputs": [
    {
     "data": {
      "text/html": [
       "<div>\n",
       "<style scoped>\n",
       "    .dataframe tbody tr th:only-of-type {\n",
       "        vertical-align: middle;\n",
       "    }\n",
       "\n",
       "    .dataframe tbody tr th {\n",
       "        vertical-align: top;\n",
       "    }\n",
       "\n",
       "    .dataframe thead th {\n",
       "        text-align: right;\n",
       "    }\n",
       "</style>\n",
       "<table border=\"1\" class=\"dataframe\">\n",
       "  <thead>\n",
       "    <tr style=\"text-align: right;\">\n",
       "      <th></th>\n",
       "      <th>Title</th>\n",
       "      <th>Author</th>\n",
       "      <th>Rating</th>\n",
       "      <th>Reviews</th>\n",
       "      <th>Price</th>\n",
       "      <th>Publication Year</th>\n",
       "      <th>Genre</th>\n",
       "    </tr>\n",
       "  </thead>\n",
       "  <tbody>\n",
       "    <tr>\n",
       "      <th>0</th>\n",
       "      <td>10-Day Green Smoothie Cleanse</td>\n",
       "      <td>JJ Smith</td>\n",
       "      <td>4.7</td>\n",
       "      <td>17350</td>\n",
       "      <td>8</td>\n",
       "      <td>2016</td>\n",
       "      <td>Non Fiction</td>\n",
       "    </tr>\n",
       "    <tr>\n",
       "      <th>1</th>\n",
       "      <td>11/22/63: A Novel</td>\n",
       "      <td>Stephen King</td>\n",
       "      <td>4.6</td>\n",
       "      <td>2052</td>\n",
       "      <td>22</td>\n",
       "      <td>2011</td>\n",
       "      <td>Fiction</td>\n",
       "    </tr>\n",
       "    <tr>\n",
       "      <th>2</th>\n",
       "      <td>12 Rules for Life: An Antidote to Chaos</td>\n",
       "      <td>Jordan B. Peterson</td>\n",
       "      <td>4.7</td>\n",
       "      <td>18979</td>\n",
       "      <td>15</td>\n",
       "      <td>2018</td>\n",
       "      <td>Non Fiction</td>\n",
       "    </tr>\n",
       "    <tr>\n",
       "      <th>3</th>\n",
       "      <td>1984 (Signet Classics)</td>\n",
       "      <td>George Orwell</td>\n",
       "      <td>4.7</td>\n",
       "      <td>21424</td>\n",
       "      <td>6</td>\n",
       "      <td>2017</td>\n",
       "      <td>Fiction</td>\n",
       "    </tr>\n",
       "    <tr>\n",
       "      <th>4</th>\n",
       "      <td>5,000 Awesome Facts (About Everything!) (Natio...</td>\n",
       "      <td>National Geographic Kids</td>\n",
       "      <td>4.8</td>\n",
       "      <td>7665</td>\n",
       "      <td>12</td>\n",
       "      <td>2019</td>\n",
       "      <td>Non Fiction</td>\n",
       "    </tr>\n",
       "    <tr>\n",
       "      <th>...</th>\n",
       "      <td>...</td>\n",
       "      <td>...</td>\n",
       "      <td>...</td>\n",
       "      <td>...</td>\n",
       "      <td>...</td>\n",
       "      <td>...</td>\n",
       "      <td>...</td>\n",
       "    </tr>\n",
       "    <tr>\n",
       "      <th>545</th>\n",
       "      <td>Wrecking Ball (Diary of a Wimpy Kid Book 14)</td>\n",
       "      <td>Jeff Kinney</td>\n",
       "      <td>4.9</td>\n",
       "      <td>9413</td>\n",
       "      <td>8</td>\n",
       "      <td>2019</td>\n",
       "      <td>Fiction</td>\n",
       "    </tr>\n",
       "    <tr>\n",
       "      <th>546</th>\n",
       "      <td>You Are a Badass: How to Stop Doubting Your Gr...</td>\n",
       "      <td>Jen Sincero</td>\n",
       "      <td>4.7</td>\n",
       "      <td>14331</td>\n",
       "      <td>8</td>\n",
       "      <td>2016</td>\n",
       "      <td>Non Fiction</td>\n",
       "    </tr>\n",
       "    <tr>\n",
       "      <th>547</th>\n",
       "      <td>You Are a Badass: How to Stop Doubting Your Gr...</td>\n",
       "      <td>Jen Sincero</td>\n",
       "      <td>4.7</td>\n",
       "      <td>14331</td>\n",
       "      <td>8</td>\n",
       "      <td>2017</td>\n",
       "      <td>Non Fiction</td>\n",
       "    </tr>\n",
       "    <tr>\n",
       "      <th>548</th>\n",
       "      <td>You Are a Badass: How to Stop Doubting Your Gr...</td>\n",
       "      <td>Jen Sincero</td>\n",
       "      <td>4.7</td>\n",
       "      <td>14331</td>\n",
       "      <td>8</td>\n",
       "      <td>2018</td>\n",
       "      <td>Non Fiction</td>\n",
       "    </tr>\n",
       "    <tr>\n",
       "      <th>549</th>\n",
       "      <td>You Are a Badass: How to Stop Doubting Your Gr...</td>\n",
       "      <td>Jen Sincero</td>\n",
       "      <td>4.7</td>\n",
       "      <td>14331</td>\n",
       "      <td>8</td>\n",
       "      <td>2019</td>\n",
       "      <td>Non Fiction</td>\n",
       "    </tr>\n",
       "  </tbody>\n",
       "</table>\n",
       "<p>550 rows × 7 columns</p>\n",
       "</div>"
      ],
      "text/plain": [
       "                                                 Title                    Author  Rating  Reviews  Price  \\\n",
       "0                        10-Day Green Smoothie Cleanse                  JJ Smith     4.7    17350      8   \n",
       "1                                    11/22/63: A Novel              Stephen King     4.6     2052     22   \n",
       "2              12 Rules for Life: An Antidote to Chaos        Jordan B. Peterson     4.7    18979     15   \n",
       "3                               1984 (Signet Classics)             George Orwell     4.7    21424      6   \n",
       "4    5,000 Awesome Facts (About Everything!) (Natio...  National Geographic Kids     4.8     7665     12   \n",
       "..                                                 ...                       ...     ...      ...    ...   \n",
       "545       Wrecking Ball (Diary of a Wimpy Kid Book 14)               Jeff Kinney     4.9     9413      8   \n",
       "546  You Are a Badass: How to Stop Doubting Your Gr...               Jen Sincero     4.7    14331      8   \n",
       "547  You Are a Badass: How to Stop Doubting Your Gr...               Jen Sincero     4.7    14331      8   \n",
       "548  You Are a Badass: How to Stop Doubting Your Gr...               Jen Sincero     4.7    14331      8   \n",
       "549  You Are a Badass: How to Stop Doubting Your Gr...               Jen Sincero     4.7    14331      8   \n",
       "\n",
       "     Publication Year        Genre  \n",
       "0                2016  Non Fiction  \n",
       "1                2011      Fiction  \n",
       "2                2018  Non Fiction  \n",
       "3                2017      Fiction  \n",
       "4                2019  Non Fiction  \n",
       "..                ...          ...  \n",
       "545              2019      Fiction  \n",
       "546              2016  Non Fiction  \n",
       "547              2017  Non Fiction  \n",
       "548              2018  Non Fiction  \n",
       "549              2019  Non Fiction  \n",
       "\n",
       "[550 rows x 7 columns]"
      ]
     },
     "execution_count": 51,
     "metadata": {},
     "output_type": "execute_result"
    }
   ],
   "source": [
    "# renaming some columns for convenience\n",
    "dfc.rename(columns={\"Name\": \"Title\", \"Year\": \"Publication Year\", \"User Rating\": \"Rating\"})"
   ]
  },
  {
   "cell_type": "code",
   "execution_count": 52,
   "id": "f787ab8c",
   "metadata": {},
   "outputs": [
    {
     "name": "stdout",
     "output_type": "stream",
     "text": [
      "<class 'pandas.core.frame.DataFrame'>\n",
      "RangeIndex: 550 entries, 0 to 549\n",
      "Data columns (total 7 columns):\n",
      " #   Column            Non-Null Count  Dtype  \n",
      "---  ------            --------------  -----  \n",
      " 0   Title             550 non-null    object \n",
      " 1   Author            550 non-null    object \n",
      " 2   Rating            550 non-null    float64\n",
      " 3   Reviews           550 non-null    int64  \n",
      " 4   Price             550 non-null    int64  \n",
      " 5   Publication Year  550 non-null    int64  \n",
      " 6   Genre             550 non-null    object \n",
      "dtypes: float64(1), int64(3), object(3)\n",
      "memory usage: 30.2+ KB\n"
     ]
    }
   ],
   "source": [
    "# Cleaning Process\n",
    "\n",
    "# dropping any duplicates within the dataset\n",
    "dfc.drop_duplicates(inplace=True)\n",
    "\n",
    "# renaming some columns for convenience\n",
    "dfc.rename(columns={\"Name\": \"Title\", \"Year\": \"Publication Year\", \"User Rating\": \"Rating\"}, inplace=True)\n",
    "\n",
    "# visualize chnage\n",
    "dfc.info()"
   ]
  },
  {
   "cell_type": "code",
   "execution_count": 53,
   "id": "7e87c02f",
   "metadata": {},
   "outputs": [
    {
     "name": "stdout",
     "output_type": "stream",
     "text": [
      "count    550.000000\n",
      "mean      13.100000\n",
      "std       10.842262\n",
      "min        0.000000\n",
      "25%        7.000000\n",
      "50%       11.000000\n",
      "75%       16.000000\n",
      "max      105.000000\n",
      "Name: Price, dtype: float64\n"
     ]
    }
   ],
   "source": [
    "# add some feature engineering\n",
    "\n",
    "# visualize the column so I decide the price ranges\n",
    "summary = dfc[\"Price\"].describe()\n",
    "\n",
    "print(summary)"
   ]
  },
  {
   "cell_type": "code",
   "execution_count": 54,
   "id": "789a6ccd",
   "metadata": {},
   "outputs": [
    {
     "name": "stdout",
     "output_type": "stream",
     "text": [
      "Price_Tier\n",
      "Mid-Range    228\n",
      "Budget       200\n",
      "Premium      122\n",
      "Name: count, dtype: int64\n"
     ]
    }
   ],
   "source": [
    "# recategorize price column into 'budget', 'mid-range', 'premium'\n",
    "\n",
    "# create a bin, each number is a cut-off point. it ends at 106, that's because our max is 105 so we add 1 in order to make sure it's included\n",
    "bins = [0, 8, 16, dfc[\"Price\"].max() + 1]\n",
    "\n",
    "# just define labels\n",
    "labels = [\"Budget\", \"Mid-Range\", \"Premium\"]\n",
    "\n",
    "# now use pd.cut() to create a new column in our dataset\n",
    "dfc[\"Price_Tier\"] = pd.cut(\n",
    "    x=dfc[\"Price\"], # here we're telling pd.cut() what column we want to categorize\n",
    "    bins=bins, # our boundaries we created above\n",
    "    labels=labels, # our labels also created above\n",
    "    include_lowest=True # making sure the lowest value (0) is included in the first bin\n",
    ")\n",
    "\n",
    "# now check our work \n",
    "print(dfc[\"Price_Tier\"].value_counts())"
   ]
  },
  {
   "cell_type": "code",
   "execution_count": 55,
   "id": "75345580",
   "metadata": {},
   "outputs": [
    {
     "name": "stdout",
     "output_type": "stream",
     "text": [
      "                                               Title  Title_Word_Count\n",
      "0                      10-Day Green Smoothie Cleanse                 4\n",
      "1                                  11/22/63: A Novel                 3\n",
      "2            12 Rules for Life: An Antidote to Chaos                 8\n",
      "3                             1984 (Signet Classics)                 3\n",
      "4  5,000 Awesome Facts (About Everything!) (Natio...                 8\n"
     ]
    }
   ],
   "source": [
    "# begin analyzing \n",
    "# calculate if the number of words in a title influence the rating its given\n",
    "\n",
    "# create our new column. \n",
    "# we use str.split() to break the title string into a list of individual words\n",
    "# we use str.len() to count how many words are in the resulting list\n",
    "dfc[\"Title_Word_Count\"] = dfc[\"Title\"].str.split().str.len()\n",
    "print(dfc[[\"Title\", \"Title_Word_Count\"]].head())"
   ]
  },
  {
   "cell_type": "code",
   "execution_count": 56,
   "id": "d5681256",
   "metadata": {},
   "outputs": [
    {
     "name": "stdout",
     "output_type": "stream",
     "text": [
      "count    550.000000\n",
      "mean       8.138182\n",
      "std        4.818660\n",
      "min        1.000000\n",
      "25%        4.000000\n",
      "50%        7.000000\n",
      "75%       12.000000\n",
      "max       24.000000\n",
      "Name: Title_Word_Count, dtype: float64\n"
     ]
    },
    {
     "data": {
      "image/png": "[encoded data removed]",
      "text/plain": [
       "<Figure size 800x500 with 1 Axes>"
      ]
     },
     "metadata": {},
     "output_type": "display_data"
    }
   ],
   "source": [
    "#analyzing our numerical distribution\n",
    "print(dfc[\"Title_Word_Count\"].describe())\n",
    "\n",
    "# histogram\n",
    "plt.figure(figsize=(8, 5))\n",
    "dfc[\"Title_Word_Count\"].hist(bins=20) #.hist is what tells py to make a histogram and the bins is what determines how the data is grouped\n",
    "plt.title(\"Distribution of Bestseller Title Word Counts\")\n",
    "plt.xlabel(\"Word Count\")\n",
    "plt.ylabel(\"Number of Books\")\n",
    "\n",
    "# put figure inside folder and show\n",
    "plt.savefig(\"../figures/title_word_count\", bbox_inches=\"tight\")\n",
    "plt.show()"
   ]
  },
  {
   "cell_type": "code",
   "execution_count": 57,
   "id": "fd517972",
   "metadata": {},
   "outputs": [
    {
     "name": "stdout",
     "output_type": "stream",
     "text": [
      "Author\n",
      "Jeff Kinney                           12\n",
      "Gary Chapman                          11\n",
      "Rick Riordan                          11\n",
      "Suzanne Collins                       11\n",
      "American Psychological Association    10\n",
      "                                      ..\n",
      "Keith Richards                         1\n",
      "Chris Cleave                           1\n",
      "Alice Schertle                         1\n",
      "Celeste Ng                             1\n",
      "Adam Gasiewski                         1\n",
      "Name: count, Length: 248, dtype: int64\n"
     ]
    }
   ],
   "source": [
    "# more analyzing\n",
    "\n",
    "author_count = dfc[\"Author\"].value_counts()\n",
    "print(author_count)"
   ]
  },
  {
   "cell_type": "code",
   "execution_count": 58,
   "id": "5977f2c7",
   "metadata": {},
   "outputs": [
    {
     "data": {
      "image/png": "[encoded data removed]",
      "text/plain": [
       "<Figure size 1000x600 with 1 Axes>"
      ]
     },
     "metadata": {},
     "output_type": "display_data"
    }
   ],
   "source": [
    "# visualizing top authors\n",
    "\n",
    "# only top 10\n",
    "top_10_authors = author_count.head(10).sort_values(ascending=True)\n",
    "\n",
    "plt.figure(figsize=(10, 6))\n",
    "top_10_authors.plot(kind=\"barh\", color=\"skyblue\")\n",
    "\n",
    "# titles & labels\n",
    "plt.title(\"Top 10 Best Selling Authors By Number of Books\", fontsize=16)\n",
    "plt.xlabel(\"Number of Bestsellers\")\n",
    "plt.ylabel(\"Author\", fontsize=12)\n",
    "\n",
    "# preventing label cut off\n",
    "plt.tight_layout()\n",
    "\n",
    "# put figure inside folder\n",
    "plt.savefig(\"../figures/top_selling_authors_by_n_of_books.png\", bbox_inches=\"tight\")\n"
   ]
  },
  {
   "cell_type": "code",
   "execution_count": 59,
   "id": "963cd2d3",
   "metadata": {},
   "outputs": [
    {
     "name": "stdout",
     "output_type": "stream",
     "text": [
      "Genre\n",
      "Fiction        4.648333\n",
      "Non Fiction    4.595161\n",
      "Name: Rating, dtype: float64\n"
     ]
    }
   ],
   "source": [
    "avg_rating_by_genre = dfc.groupby(\"Genre\")[\"Rating\"].mean()\n",
    "print(avg_rating_by_genre)"
   ]
  },
  {
   "cell_type": "code",
   "execution_count": 60,
   "id": "14331b3a",
   "metadata": {},
   "outputs": [
    {
     "data": {
      "image/png": "[encoded data removed]",
      "text/plain": [
       "<Figure size 800x500 with 1 Axes>"
      ]
     },
     "metadata": {},
     "output_type": "display_data"
    }
   ],
   "source": [
    "# visualizing the above\n",
    "\n",
    "plt.figure(figsize=(8, 5))\n",
    "\n",
    "# plot data\n",
    "avg_rating_by_genre.plot(kind=\"bar\", color=[\"darkcyan\", \"lightcoral\"])\n",
    "\n",
    "# add titles and labels\n",
    "plt.title(\"Average Bestseller Rating by Genre\")\n",
    "plt.xlabel(\"Genre\")\n",
    "plt.ylabel(\"Average User Rating\")\n",
    "\n",
    "# apply zoom since it's very similar\n",
    "plt.ylim(4.5, 4.7)\n",
    "\n",
    "# customization for visuals\n",
    "plt.xticks(rotation=0)\n",
    "plt.grid(axis=\"y\", linestyle=\"--\", alpha=0.7)\n",
    "plt.tight_layout()\n",
    "\n",
    "# put figure inside folder\n",
    "plt.savefig(\"../figures/avg_rating_by_genre_barchart.png\", bbox_inches=\"tight\")"
   ]
  },
  {
   "cell_type": "code",
   "execution_count": 61,
   "id": "a51e30a6",
   "metadata": {},
   "outputs": [
    {
     "name": "stdout",
     "output_type": "stream",
     "text": [
      "Title_Length_Tier\n",
      "Short     4.594937\n",
      "Medium    4.634932\n",
      "Long      4.623577\n",
      "Name: Rating, dtype: float64\n"
     ]
    },
    {
     "name": "stderr",
     "output_type": "stream",
     "text": [
      "/var/folders/87/s5rpc7lx3s93vydwy64xfwv00000gn/T/ipykernel_15229/1158642450.py:16: FutureWarning: The default of observed=False is deprecated and will be changed to True in a future version of pandas. Pass observed=False to retain current behavior or observed=True to adopt the future default and silence this warning.\n",
      "  avg_rating_by_length = dfc.groupby(\"Title_Length_Tier\")[\"Rating\"].mean()\n"
     ]
    }
   ],
   "source": [
    "# this is where we will determine if a longer/shorter title influences the rating\n",
    "\n",
    "# same as below, create a bin and labels\n",
    "title_bins = [0, 4, 8, dfc[\"Title_Word_Count\"].max() + 1]\n",
    "title_labels = [\"Short\", \"Medium\", \"Long\"]\n",
    "\n",
    "# create a tier\n",
    "dfc[\"Title_Length_Tier\"] = pd.cut(\n",
    "    dfc[\"Title_Word_Count\"],\n",
    "    bins=title_bins,\n",
    "    labels=title_labels,\n",
    "    include_lowest=True\n",
    ")\n",
    "\n",
    "# group by the new tier we created than calculate the avg\n",
    "avg_rating_by_length = dfc.groupby(\"Title_Length_Tier\")[\"Rating\"].mean()\n",
    "\n",
    "print(avg_rating_by_length)\n",
    "\n"
   ]
  },
  {
   "cell_type": "code",
   "execution_count": 62,
   "id": "869e5bdb",
   "metadata": {},
   "outputs": [],
   "source": [
    "# so, as seen above the title length doesn't have much influence, if any, on the ratings"
   ]
  },
  {
   "cell_type": "code",
   "execution_count": 63,
   "id": "c65717a3",
   "metadata": {},
   "outputs": [],
   "source": [
    "# implementing Linear Regression\n",
    "\n",
    "# one-hot encoding our categories\n",
    "# create dummies\n",
    "X = pd.get_dummies(dfc[[\"Reviews\", \"Price\", \"Genre\"]], columns=[\"Genre\"], drop_first=True)\n",
    "\n",
    "# target var\n",
    "y = dfc[\"Rating\"]\n",
    "\n",
    "# split data\n",
    "X_train, X_test, y_train, y_test = train_test_split(\n",
    "    X, y, test_size=0.2, random_state=42\n",
    ")\n",
    "\n",
    "# train the model \n",
    "model = LinearRegression()\n",
    "\n",
    "# train the model using the dataset \n",
    "model.fit(X_train, y_train) # the model will determine the best coefficients (slopes)\n",
    "\n",
    "# make the predictions\n",
    "y_predictions = model.predict(X_test)"
   ]
  },
  {
   "cell_type": "code",
   "execution_count": 64,
   "id": "cc362620",
   "metadata": {},
   "outputs": [
    {
     "name": "stdout",
     "output_type": "stream",
     "text": [
      "R-squared (R²): 0.0196\n",
      "Mean Squared Error (MSE): 0.0562\n",
      "Model Coefficients: [-5.44819091e-07 -2.63132758e-03 -4.86436761e-02]\n"
     ]
    }
   ],
   "source": [
    "# now we evaluate our models performance\n",
    "\n",
    "# calculating the R-squared score\n",
    "r2 = r2_score(y_test, y_predictions)\n",
    "print(f\"R-squared (R²): {r2:.4f}\")\n",
    "\n",
    "# calculate mean squared error\n",
    "mse = mean_squared_error(y_test, y_predictions)\n",
    "print(f\"Mean Squared Error (MSE): {mse:.4f}\")\n",
    "\n",
    "# looking at the coefficients our model learned (it's good visualization)\n",
    "print(\"Model Coefficients:\", model.coef_)"
   ]
  },
  {
   "cell_type": "code",
   "execution_count": 65,
   "id": "bf1ba278",
   "metadata": {},
   "outputs": [],
   "source": [
    "# our R-squared score is extremely low which suggests that the relationship between my features and rating is not linear. \n",
    "# so I'm going to use a different model, which is Random Forest Regressor (RFR)\n",
    "\n",
    "# RFR is a supervised ML algorithm that builds multiple decision trees and combines all of them to produce a more\n",
    "# accurate result than Linear Regression. Let's see how it performs. \n",
    "\n",
    "# initialize our model \n",
    "# n_estimators=100 is the default number of trees used, random_state=42 ensures our results stays the same every time\n",
    "rfr_model = RandomForestRegressor(n_estimators=100, random_state=42)\n",
    "\n",
    "# train the model\n",
    "rfr_model.fit(X_train, y_train)\n",
    "\n",
    "# make the predictions\n",
    "rfr_y_predictions = rfr_model.predict(X_test)"
   ]
  },
  {
   "cell_type": "code",
   "execution_count": 66,
   "id": "26fadb5b",
   "metadata": {},
   "outputs": [
    {
     "name": "stdout",
     "output_type": "stream",
     "text": [
      "Random Forest R-squared (R²): 0.2469\n"
     ]
    }
   ],
   "source": [
    "# evaluate the performance of our model\n",
    "\n",
    "rfr_r2 = r2_score(y_test, rfr_y_predictions)\n",
    "print(f\"Random Forest R-squared (R²): {rfr_r2:.4f}\")"
   ]
  },
  {
   "cell_type": "code",
   "execution_count": 67,
   "id": "c8a748a8",
   "metadata": {},
   "outputs": [],
   "source": [
    "# the result was still really bad. so let's add year to our list of features.\n",
    "# I will attempt to create a new column which contains the age of a book. "
   ]
  },
  {
   "cell_type": "code",
   "execution_count": 68,
   "id": "bd55ea36",
   "metadata": {},
   "outputs": [
    {
     "name": "stdout",
     "output_type": "stream",
     "text": [
      "count     550.000000\n",
      "mean     2014.000000\n",
      "std         3.165156\n",
      "min      2009.000000\n",
      "25%      2011.000000\n",
      "50%      2014.000000\n",
      "75%      2017.000000\n",
      "max      2019.000000\n",
      "Name: Publication Year, dtype: float64\n"
     ]
    }
   ],
   "source": [
    "# see what's the latest year in our data\n",
    "\n",
    "summary_y = dfc[\"Publication Year\"].describe()\n",
    "\n",
    "print(summary_y)"
   ]
  },
  {
   "cell_type": "code",
   "execution_count": 69,
   "id": "5f189361",
   "metadata": {},
   "outputs": [],
   "source": [
    "dfc[\"Book_Age\"] = 2019 - dfc[\"Publication Year\"]"
   ]
  },
  {
   "cell_type": "code",
   "execution_count": 70,
   "id": "be7d5291",
   "metadata": {},
   "outputs": [],
   "source": [
    "# implementing Linear Regression with our new column\n",
    "\n",
    "# one-hot encoding our categories\n",
    "# create dummies\n",
    "X = pd.get_dummies(dfc[[\"Reviews\", \"Price\", \"Genre\", \"Book_Age\"]], columns=[\"Genre\"], drop_first=True)\n",
    "\n",
    "# target var\n",
    "y = dfc[\"Rating\"]\n",
    "\n",
    "# split data\n",
    "X_train, X_test, y_train, y_test = train_test_split(\n",
    "    X, y, test_size=0.2, random_state=42\n",
    ")\n",
    "\n",
    "# train the model \n",
    "model = LinearRegression()\n",
    "\n",
    "# train the model using the dataset \n",
    "model.fit(X_train, y_train) # the model will determine the best coefficients (slopes)\n",
    "\n",
    "# make the predictions\n",
    "y_predictions = model.predict(X_test)"
   ]
  },
  {
   "cell_type": "code",
   "execution_count": 71,
   "id": "a0efb573",
   "metadata": {},
   "outputs": [
    {
     "name": "stdout",
     "output_type": "stream",
     "text": [
      "R-squared (R²): 0.0815\n",
      "Mean Squared Error (MSE): 0.0527\n",
      "Model Coefficients: [-2.00813044e-06 -1.65239392e-03 -1.88954197e-02 -6.72601824e-02]\n"
     ]
    }
   ],
   "source": [
    "# now we evaluate our models performance to see if our new column helps\n",
    "\n",
    "# calculating the R-squared score\n",
    "r2 = r2_score(y_test, y_predictions)\n",
    "print(f\"R-squared (R²): {r2:.4f}\")\n",
    "\n",
    "# calculate mean squared error\n",
    "mse = mean_squared_error(y_test, y_predictions)\n",
    "print(f\"Mean Squared Error (MSE): {mse:.4f}\")\n",
    "\n",
    "# looking at the coefficients our model learned (it's good visualization)\n",
    "print(\"Model Coefficients:\", model.coef_)"
   ]
  },
  {
   "cell_type": "code",
   "execution_count": 72,
   "id": "6e0a0ccf",
   "metadata": {},
   "outputs": [],
   "source": [
    "#rfr with the new column\n",
    "\n",
    "rfr_model = RandomForestRegressor(n_estimators=100, random_state=42)\n",
    "\n",
    "# train the model\n",
    "rfr_model.fit(X_train, y_train)\n",
    "\n",
    "# make the predictions\n",
    "rfr_y_predictions = rfr_model.predict(X_test)"
   ]
  },
  {
   "cell_type": "code",
   "execution_count": 73,
   "id": "6a14ae08",
   "metadata": {},
   "outputs": [
    {
     "name": "stdout",
     "output_type": "stream",
     "text": [
      "Random Forest R-squared (R²): 0.2552\n"
     ]
    }
   ],
   "source": [
    "rfr_r2 = r2_score(y_test, rfr_y_predictions)\n",
    "print(f\"Random Forest R-squared (R²): {rfr_r2:.4f}\")"
   ]
  },
  {
   "cell_type": "code",
   "execution_count": 74,
   "id": "c4a8778a",
   "metadata": {},
   "outputs": [],
   "source": [
    "# introducing a new variable increased our r-squared for the linear regression significantly from .0196 to .0815\n",
    "# but it barely increased ou r-squared for the RFR, that's because RFR had already extracted almost all the predictive signal available "
   ]
  }
 ],
 "metadata": {
  "kernelspec": {
   "display_name": "Python 3",
   "language": "python",
   "name": "python3"
  },
  "language_info": {
   "codemirror_mode": {
    "name": "ipython",
    "version": 3
   },
   "file_extension": ".py",
   "mimetype": "text/x-python",
   "name": "python",
   "nbconvert_exporter": "python",
   "pygments_lexer": "ipython3",
   "version": "3.13.5"
  }
 },
 "nbformat": 4,
 "nbformat_minor": 5
}
